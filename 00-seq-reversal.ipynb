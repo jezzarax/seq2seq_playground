{
 "cells": [
  {
   "cell_type": "code",
   "execution_count": 1,
   "metadata": {},
   "outputs": [],
   "source": [
    "import torch\n",
    "import pandas\n",
    "import torch.nn as nn\n",
    "import torch.nn.functional as F\n",
    "from tqdm import tqdm\n",
    "torch.manual_seed(0)\n",
    "tqdm.get_lock().locks = []"
   ]
  },
  {
   "cell_type": "markdown",
   "metadata": {},
   "source": [
    "Just as a warm-up exercise let's confirm that quadratic-sized recurrent neural network is capable of reverting a simple sequence.\n",
    "Just for the sake of simplicity the sequence will be one-hot encoded and put through a network with 2 recurrent layers of $seq\\_length^2$ neurons and an output linear layer providing a final output with the next sequence item. \n",
    "\n",
    "TODO:\n",
    "- [ ] enable teacher forcing randomization\n",
    "- [ ] perform validation during the training procedure\n",
    "- [ ] improve the code quality\n",
    "- [ ] work in batches\n",
    "- [ ] check border conditions\n",
    "- [ ] improve progress reporting\n",
    "- [ ] try tensorboard output\n",
    "- [ ] implement sequence padding to enable variable sequence length capability in the model"
   ]
  },
  {
   "cell_type": "code",
   "execution_count": 2,
   "metadata": {},
   "outputs": [
    {
     "name": "stdout",
     "output_type": "stream",
     "text": [
      "tensor([[0, 3, 1, 0, 3, 3, 3, 3, 1, 3],\n",
      "        [1, 2, 0, 3, 2, 0, 0, 0, 2, 1],\n",
      "        [2, 3, 3, 2, 0, 1, 1, 1, 1, 0],\n",
      "        [1, 0, 3, 0, 3, 1, 2, 3, 3, 0],\n",
      "        [2, 3, 0, 1, 3, 1, 3, 3, 2, 3],\n",
      "        [0, 1, 1, 1, 3, 0, 3, 2, 0, 3],\n",
      "        [3, 2, 3, 2, 3, 0, 2, 0, 0, 0],\n",
      "        [1, 1, 2, 0, 0, 1, 3, 0, 1, 2],\n",
      "        [2, 3, 0, 1, 1, 3, 1, 1, 3, 2],\n",
      "        [3, 3, 2, 2, 3, 0, 2, 3, 1, 0]])\n",
      "tensor([[3, 1, 3, 3, 3, 3, 0, 1, 3, 0],\n",
      "        [1, 2, 0, 0, 0, 2, 3, 0, 2, 1],\n",
      "        [0, 1, 1, 1, 1, 0, 2, 3, 3, 2],\n",
      "        [0, 3, 3, 2, 1, 3, 0, 3, 0, 1],\n",
      "        [3, 2, 3, 3, 1, 3, 1, 0, 3, 2],\n",
      "        [3, 0, 2, 3, 0, 3, 1, 1, 1, 0],\n",
      "        [0, 0, 0, 2, 0, 3, 2, 3, 2, 3],\n",
      "        [2, 1, 0, 3, 1, 0, 0, 2, 1, 1],\n",
      "        [2, 3, 1, 1, 3, 1, 1, 0, 3, 2],\n",
      "        [0, 1, 3, 2, 0, 3, 2, 2, 3, 3]])\n"
     ]
    }
   ],
   "source": [
    "SEQ_LENGTH = 10\n",
    "SAMPLES = 4000\n",
    "VOCAB_SIZE = 6 # number of characters in vocab + EOS and SOS characters\n",
    "src_sequences = torch.randint(VOCAB_SIZE - 2, [SAMPLES, SEQ_LENGTH])\n",
    "reversed_sequences = src_sequences.flip(1)\n",
    "print(src_sequences[:10])\n",
    "print(reversed_sequences[:10])"
   ]
  },
  {
   "cell_type": "code",
   "execution_count": 3,
   "metadata": {},
   "outputs": [],
   "source": [
    "src_sequences_one_hot = torch.zeros((SAMPLES, SEQ_LENGTH, VOCAB_SIZE)).scatter(2, src_sequences.unsqueeze(2), 1.0)"
   ]
  },
  {
   "cell_type": "code",
   "execution_count": 4,
   "metadata": {},
   "outputs": [],
   "source": [
    "class ReverseEncoder(nn.Module):\n",
    "    def __init__(self, seq_length, vocab_size, rec_layers_count):\n",
    "        super(ReverseEncoder, self).__init__()\n",
    "        self.seq_length = seq_length\n",
    "        self.vocab_size = vocab_size\n",
    "        self.rec_layers_count = rec_layers_count \n",
    "        self.rec_layers = nn.RNN(\n",
    "            input_size = vocab_size, \n",
    "            hidden_size = seq_length**2,\n",
    "            nonlinearity = \"tanh\",\n",
    "            num_layers = rec_layers_count,\n",
    "            batch_first = True\n",
    "        )\n",
    "        self.hidden_state = self.init_hidden_state()\n",
    "        \n",
    "    def init_hidden_state(self):\n",
    "        return torch.randn((self.rec_layers_count, 1, self.seq_length**2))\n",
    "        \n",
    "    def forward(self, input_sequence):\n",
    "        post_recurrent, hidden = self.rec_layers(input_sequence, self.hidden_state)\n",
    "\n",
    "        return post_recurrent, hidden\n",
    "    \n",
    "class ReverseDecoder(nn.Module):\n",
    "    def __init__(self, seq_length, vocab_size, rec_layers_count):\n",
    "        super(ReverseDecoder, self).__init__()\n",
    "        self.seq_length = seq_length\n",
    "        self.vocab_size = vocab_size\n",
    "        self.rec_layers_count = rec_layers_count \n",
    "        self.rec_layers = nn.RNN(\n",
    "            input_size = vocab_size, \n",
    "            hidden_size = seq_length**2,\n",
    "            nonlinearity = \"tanh\",\n",
    "            num_layers = rec_layers_count,\n",
    "            batch_first = True\n",
    "        )\n",
    "        self.output = nn.Linear(seq_length*seq_length, vocab_size)\n",
    "        \n",
    "    def forward(self, input_sequence, hidden_state):\n",
    "        post_recurrent, hidden = self.rec_layers(input_sequence, hidden_state)\n",
    "        item_probs = F.log_softmax(self.output(post_recurrent), dim=2)\n",
    "        return item_probs, hidden"
   ]
  },
  {
   "cell_type": "code",
   "execution_count": 5,
   "metadata": {},
   "outputs": [],
   "source": [
    "enc_model = ReverseEncoder(SEQ_LENGTH, VOCAB_SIZE, 2)\n",
    "dec_model = ReverseDecoder(SEQ_LENGTH, VOCAB_SIZE, 2)"
   ]
  },
  {
   "cell_type": "code",
   "execution_count": 6,
   "metadata": {},
   "outputs": [
    {
     "name": "stdout",
     "output_type": "stream",
     "text": [
      "ReverseEncoder(\n",
      "  (rec_layers): RNN(6, 100, num_layers=2, batch_first=True)\n",
      ")\n",
      "ReverseDecoder(\n",
      "  (rec_layers): RNN(6, 100, num_layers=2, batch_first=True)\n",
      "  (output): Linear(in_features=100, out_features=6, bias=True)\n",
      ")\n"
     ]
    }
   ],
   "source": [
    "print(enc_model)\n",
    "print(dec_model)"
   ]
  },
  {
   "cell_type": "code",
   "execution_count": 7,
   "metadata": {},
   "outputs": [],
   "source": [
    "loss_function = nn.NLLLoss()\n",
    "optimizer = torch.optim.Adam(\n",
    "    list(enc_model.parameters()) + list(dec_model.parameters()), \n",
    "    lr = 0.0005\n",
    ")"
   ]
  },
  {
   "cell_type": "code",
   "execution_count": 8,
   "metadata": {},
   "outputs": [],
   "source": [
    "SOS = torch.tensor(VOCAB_SIZE - 2)\n",
    "EOS = torch.tensor(VOCAB_SIZE - 1)\n",
    "SOS_filler = torch.cat((torch.zeros(VOCAB_SIZE - 2), torch.tensor([1.0, 0.0])))\n",
    "EOS_filler = torch.cat((torch.zeros(VOCAB_SIZE - 1), torch.tensor([1.0])))"
   ]
  },
  {
   "cell_type": "code",
   "execution_count": 9,
   "metadata": {},
   "outputs": [],
   "source": [
    "def chunks(l, n):\n",
    "    \"\"\"Yield successive n-sized chunks from l.\"\"\"\n",
    "    for i in range(0, len(l), n):\n",
    "        yield l[i:i + n]"
   ]
  },
  {
   "cell_type": "code",
   "execution_count": 10,
   "metadata": {},
   "outputs": [
    {
     "name": "stderr",
     "output_type": "stream",
     "text": [
      "100%|██████████| 63/63 [00:35<00:00,  2.08it/s, epoch=0, mean_loss=1.03e+3, last_loss=447]    \n",
      "100%|██████████| 63/63 [00:35<00:00,  2.12it/s, epoch=1, mean_loss=938, last_loss=395]    \n",
      "100%|██████████| 63/63 [00:34<00:00,  2.09it/s, epoch=2, mean_loss=857, last_loss=305]\n",
      "100%|██████████| 63/63 [00:34<00:00,  2.12it/s, epoch=3, mean_loss=769, last_loss=195]\n",
      "100%|██████████| 63/63 [00:37<00:00,  2.11it/s, epoch=4, mean_loss=675, last_loss=105]\n",
      "100%|██████████| 63/63 [00:33<00:00,  2.24it/s, epoch=5, mean_loss=584, last_loss=47.6]\n",
      "100%|██████████| 63/63 [00:33<00:00,  2.24it/s, epoch=6, mean_loss=508, last_loss=20.5]\n",
      "100%|██████████| 63/63 [00:32<00:00,  2.22it/s, epoch=7, mean_loss=448, last_loss=10.6]\n",
      "100%|██████████| 63/63 [00:32<00:00,  2.25it/s, epoch=8, mean_loss=400, last_loss=6.9] \n",
      "100%|██████████| 63/63 [00:32<00:00,  2.21it/s, epoch=9, mean_loss=361, last_loss=4.94]\n"
     ]
    }
   ],
   "source": [
    "epochs = 10\n",
    "BATCH_SIZE = 64\n",
    "losses = []\n",
    "i = 0\n",
    "for epoch in range(epochs):\n",
    "    with tqdm(list(chunks(list(zip(src_sequences_one_hot, reversed_sequences)), BATCH_SIZE))) as cit:\n",
    "        for chunk in cit:\n",
    "            loss = 0\n",
    "            for (sequence, sequence_y) in chunk:\n",
    "                X, y = sequence.unsqueeze(0), sequence_y\n",
    "                single_batch_result_out, hidden = enc_model(X)\n",
    "                Xss = torch.cat((SOS_filler.unsqueeze(0), X.squeeze(0)), dim=0)\n",
    "                yss = torch.cat((y, EOS.unsqueeze(0)), dim=0).unsqueeze(1)\n",
    "                for X_char, y_char in zip(Xss, yss):\n",
    "                    y_pred, hidden = dec_model(X_char.unsqueeze(0).unsqueeze(0), hidden)\n",
    "                    cur_loss = loss_function(y_pred.squeeze(0), y_char)\n",
    "                    loss += cur_loss\n",
    "                    i += 1\n",
    "            enc_model.zero_grad()\n",
    "            dec_model.zero_grad()\n",
    "            loss.backward()\n",
    "            losses.append(loss.tolist())\n",
    "            optimizer.step()\n",
    "            cit.set_postfix({\n",
    "                'epoch': epoch, \n",
    "                'mean_loss': sum(losses)/len(losses),\n",
    "                'last_loss': losses[-1]\n",
    "            })\n",
    "\n",
    "    \n",
    "    \n",
    "   "
   ]
  },
  {
   "cell_type": "code",
   "execution_count": 11,
   "metadata": {},
   "outputs": [],
   "source": [
    "def reverse_sequence(seq, model):\n",
    "    seq_one_hot = torch.zeros((1, SEQ_LENGTH, VOCAB_SIZE)).scatter(2, seq.unsqueeze(2), 1.0)\n",
    "    (_, hidden) = model[0](seq_one_hot)\n",
    "    result = []\n",
    "    out, hidden = model[1](SOS_filler.unsqueeze(0).unsqueeze(0), hidden)\n",
    "    result.append(torch.argmax(out, dim=2).squeeze(0).squeeze(0).tolist())\n",
    "    for seq_char in seq_one_hot.squeeze(0):\n",
    "        out, hidden = model[1](seq_char.unsqueeze(0).unsqueeze(0), hidden)\n",
    "        result.append(torch.argmax(out, dim=2).squeeze(0).squeeze(0).tolist())\n",
    "    return result[:-1]"
   ]
  },
  {
   "cell_type": "code",
   "execution_count": 12,
   "metadata": {},
   "outputs": [
    {
     "name": "stdout",
     "output_type": "stream",
     "text": [
      "[0, 1, 2, 3, 2, 1, 0, 1, 2, 3] tensor([[3, 2, 1, 0, 1, 2, 3, 2, 1, 0]])\n",
      "[0, 1, 2, 3, 1, 2, 3, 1, 2, 3] tensor([[3, 2, 1, 3, 2, 1, 3, 2, 1, 0]])\n",
      "[0, 1, 2, 3, 0, 0, 0, 1, 2, 3] tensor([[3, 2, 1, 0, 0, 0, 3, 2, 1, 0]])\n"
     ]
    }
   ],
   "source": [
    "test_cases = [\n",
    "    torch.tensor([[3, 2, 1, 0, 1, 2, 3, 2, 1, 0]]),\n",
    "    torch.tensor([[3, 2, 1, 3, 2, 1, 3, 2, 1, 0]]),\n",
    "    torch.tensor([[3, 2, 1, 0, 0, 0, 3, 2, 1, 0]])\n",
    "]\n",
    "for test_case in test_cases:\n",
    "    print(reverse_sequence(test_case, (enc_model, dec_model)), test_case)\n"
   ]
  },
  {
   "cell_type": "code",
   "execution_count": null,
   "metadata": {},
   "outputs": [],
   "source": []
  }
 ],
 "metadata": {
  "kernelspec": {
   "display_name": "Python 3",
   "language": "python",
   "name": "python3"
  },
  "language_info": {
   "codemirror_mode": {
    "name": "ipython",
    "version": 3
   },
   "file_extension": ".py",
   "mimetype": "text/x-python",
   "name": "python",
   "nbconvert_exporter": "python",
   "pygments_lexer": "ipython3",
   "version": "3.6.8"
  }
 },
 "nbformat": 4,
 "nbformat_minor": 4
}
